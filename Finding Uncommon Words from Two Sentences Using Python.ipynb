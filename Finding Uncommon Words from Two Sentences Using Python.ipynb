{
 "cells": [
  {
   "cell_type": "code",
   "execution_count": 1,
   "id": "2ed1ea48",
   "metadata": {},
   "outputs": [
    {
     "name": "stdout",
     "output_type": "stream",
     "text": [
      "['sweet', 'sour']\n"
     ]
    }
   ],
   "source": [
    "def uncommonFromSentences(s1, s2):\n",
    "    words1 = s1.split()\n",
    "    words2 = s2.split()\n",
    "\n",
    "    counts = {}\n",
    "    for word in words1 + words2:\n",
    "        counts[word] = counts.get(word, 0) + 1\n",
    "\n",
    "    uncommon = [word for word in counts if counts[word] == 1]\n",
    "    return uncommon\n",
    "\n",
    "s1 = \"this apple is sweet\"\n",
    "s2 = \"this apple is sour\"\n",
    "print(uncommonFromSentences(s1, s2))"
   ]
  },
  {
   "cell_type": "code",
   "execution_count": null,
   "id": "9f73d6ec",
   "metadata": {},
   "outputs": [],
   "source": []
  }
 ],
 "metadata": {
  "kernelspec": {
   "display_name": "Python 3 (ipykernel)",
   "language": "python",
   "name": "python3"
  },
  "language_info": {
   "codemirror_mode": {
    "name": "ipython",
    "version": 3
   },
   "file_extension": ".py",
   "mimetype": "text/x-python",
   "name": "python",
   "nbconvert_exporter": "python",
   "pygments_lexer": "ipython3",
   "version": "3.10.9"
  }
 },
 "nbformat": 4,
 "nbformat_minor": 5
}
